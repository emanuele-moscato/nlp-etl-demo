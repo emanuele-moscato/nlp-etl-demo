{
 "cells": [
  {
   "cell_type": "code",
   "execution_count": 20,
   "metadata": {},
   "outputs": [],
   "source": [
    "import pandas as pd\n",
    "import babylon\n",
    "from configparser import ConfigParser"
   ]
  },
  {
   "cell_type": "code",
   "execution_count": 2,
   "metadata": {},
   "outputs": [],
   "source": [
    "from babylon.data.twitter.api import Session"
   ]
  },
  {
   "cell_type": "code",
   "execution_count": 29,
   "metadata": {},
   "outputs": [
    {
     "data": {
      "text/plain": [
       "['../.secret/credentials.ini']"
      ]
     },
     "execution_count": 29,
     "metadata": {},
     "output_type": "execute_result"
    }
   ],
   "source": [
    "cp = ConfigParser()\n",
    "cp.read(\"../.secret/credentials.ini\")"
   ]
  },
  {
   "cell_type": "code",
   "execution_count": 31,
   "metadata": {},
   "outputs": [],
   "source": [
    "twitter_session = Session(\n",
    "    cp['emas_twitter_credentials']['consumer_key'],\n",
    "    cp['emas_twitter_credentials']['consumer_secret'],\n",
    "    cp['emas_twitter_credentials']['access_token'],\n",
    "    cp['emas_twitter_credentials']['access_token_secret']\n",
    ")"
   ]
  },
  {
   "cell_type": "code",
   "execution_count": 32,
   "metadata": {
    "scrolled": true
   },
   "outputs": [],
   "source": [
    "bbc_id = twitter_session.user_id('bbc')"
   ]
  },
  {
   "cell_type": "code",
   "execution_count": 18,
   "metadata": {
    "scrolled": true
   },
   "outputs": [],
   "source": [
    "bbc_tweets = twitter_session.tweets(bbc_id)"
   ]
  },
  {
   "cell_type": "code",
   "execution_count": 19,
   "metadata": {
    "scrolled": true
   },
   "outputs": [
    {
     "data": {
      "text/plain": [
       "3227"
      ]
     },
     "execution_count": 19,
     "metadata": {},
     "output_type": "execute_result"
    }
   ],
   "source": [
    "len(bbc_tweets)"
   ]
  },
  {
   "cell_type": "code",
   "execution_count": 28,
   "metadata": {},
   "outputs": [],
   "source": [
    "columns = list(bbc_tweets[0].as_dict.keys())\n",
    "\n",
    "tweets_df = pd.DataFrame(columns=columns)"
   ]
  },
  {
   "cell_type": "code",
   "execution_count": 29,
   "metadata": {},
   "outputs": [],
   "source": [
    "for tweet in bbc_tweets:\n",
    "    tweets_df = tweets_df.append(tweet.as_dict, ignore_index=True)"
   ]
  },
  {
   "cell_type": "code",
   "execution_count": 30,
   "metadata": {
    "scrolled": true
   },
   "outputs": [
    {
     "data": {
      "text/html": [
       "<div>\n",
       "<style scoped>\n",
       "    .dataframe tbody tr th:only-of-type {\n",
       "        vertical-align: middle;\n",
       "    }\n",
       "\n",
       "    .dataframe tbody tr th {\n",
       "        vertical-align: top;\n",
       "    }\n",
       "\n",
       "    .dataframe thead th {\n",
       "        text-align: right;\n",
       "    }\n",
       "</style>\n",
       "<table border=\"1\" class=\"dataframe\">\n",
       "  <thead>\n",
       "    <tr style=\"text-align: right;\">\n",
       "      <th></th>\n",
       "      <th>twitter_id</th>\n",
       "      <th>created_at</th>\n",
       "      <th>twitter_user_id</th>\n",
       "      <th>text</th>\n",
       "      <th>is_retweet</th>\n",
       "      <th>retweet_count</th>\n",
       "      <th>favorite_count</th>\n",
       "    </tr>\n",
       "  </thead>\n",
       "  <tbody>\n",
       "    <tr>\n",
       "      <th>0</th>\n",
       "      <td>1015161304917729281</td>\n",
       "      <td>2018-07-06T09:11:30</td>\n",
       "      <td>19701628</td>\n",
       "      <td>RT @BBCBreaking: Thai cave rescue death:\\n\\n- ...</td>\n",
       "      <td>True</td>\n",
       "      <td>3073</td>\n",
       "      <td>2612</td>\n",
       "    </tr>\n",
       "    <tr>\n",
       "      <th>1</th>\n",
       "      <td>1015160926880792577</td>\n",
       "      <td>2018-07-06T09:10:00</td>\n",
       "      <td>19701628</td>\n",
       "      <td>RT @BBCRadio2: \"I think you and @Pink are the ...</td>\n",
       "      <td>True</td>\n",
       "      <td>92</td>\n",
       "      <td>352</td>\n",
       "    </tr>\n",
       "    <tr>\n",
       "      <th>2</th>\n",
       "      <td>1015159355405201408</td>\n",
       "      <td>2018-07-06T09:03:45</td>\n",
       "      <td>19701628</td>\n",
       "      <td>RT @BBCSport: \"I'm not David Beckham, so we're...</td>\n",
       "      <td>True</td>\n",
       "      <td>961</td>\n",
       "      <td>5891</td>\n",
       "    </tr>\n",
       "    <tr>\n",
       "      <th>3</th>\n",
       "      <td>1015159288912908288</td>\n",
       "      <td>2018-07-06T09:03:29</td>\n",
       "      <td>19701628</td>\n",
       "      <td>RT @CBeebiesHQ: Long before @WaffleWonderDog, ...</td>\n",
       "      <td>True</td>\n",
       "      <td>27</td>\n",
       "      <td>252</td>\n",
       "    </tr>\n",
       "    <tr>\n",
       "      <th>4</th>\n",
       "      <td>1015159220646416384</td>\n",
       "      <td>2018-07-06T09:03:13</td>\n",
       "      <td>19701628</td>\n",
       "      <td>RT @BBCRadio3: A rare chance to hear this monu...</td>\n",
       "      <td>True</td>\n",
       "      <td>24</td>\n",
       "      <td>70</td>\n",
       "    </tr>\n",
       "  </tbody>\n",
       "</table>\n",
       "</div>"
      ],
      "text/plain": [
       "            twitter_id           created_at twitter_user_id  \\\n",
       "0  1015161304917729281  2018-07-06T09:11:30        19701628   \n",
       "1  1015160926880792577  2018-07-06T09:10:00        19701628   \n",
       "2  1015159355405201408  2018-07-06T09:03:45        19701628   \n",
       "3  1015159288912908288  2018-07-06T09:03:29        19701628   \n",
       "4  1015159220646416384  2018-07-06T09:03:13        19701628   \n",
       "\n",
       "                                                text is_retweet retweet_count  \\\n",
       "0  RT @BBCBreaking: Thai cave rescue death:\\n\\n- ...       True          3073   \n",
       "1  RT @BBCRadio2: \"I think you and @Pink are the ...       True            92   \n",
       "2  RT @BBCSport: \"I'm not David Beckham, so we're...       True           961   \n",
       "3  RT @CBeebiesHQ: Long before @WaffleWonderDog, ...       True            27   \n",
       "4  RT @BBCRadio3: A rare chance to hear this monu...       True            24   \n",
       "\n",
       "  favorite_count  \n",
       "0           2612  \n",
       "1            352  \n",
       "2           5891  \n",
       "3            252  \n",
       "4             70  "
      ]
     },
     "execution_count": 30,
     "metadata": {},
     "output_type": "execute_result"
    }
   ],
   "source": [
    "tweets_df.head()"
   ]
  },
  {
   "cell_type": "code",
   "execution_count": 31,
   "metadata": {},
   "outputs": [],
   "source": [
    "tweets_df.to_csv(\"../input/tweets\")"
   ]
  }
 ],
 "metadata": {
  "kernelspec": {
   "display_name": "Python [conda env:Python3]",
   "language": "python",
   "name": "conda-env-Python3-py"
  },
  "language_info": {
   "codemirror_mode": {
    "name": "ipython",
    "version": 3
   },
   "file_extension": ".py",
   "mimetype": "text/x-python",
   "name": "python",
   "nbconvert_exporter": "python",
   "pygments_lexer": "ipython3",
   "version": "3.6.5"
  }
 },
 "nbformat": 4,
 "nbformat_minor": 2
}
